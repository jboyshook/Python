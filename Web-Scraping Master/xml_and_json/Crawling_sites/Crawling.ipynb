{
 "cells": [
  {
   "attachments": {},
   "cell_type": "markdown",
   "metadata": {},
   "source": [
    "TRAVERSING A SINGAL DOMAIN\n",
    "\n",
    "first we will look at the code to retrieve a list of links from the page"
   ]
  },
  {
   "cell_type": "code",
   "execution_count": null,
   "metadata": {},
   "outputs": [],
   "source": [
    "from urllib.request import urlopen\n",
    "from bs4 import BeautifulSoup\n",
    "\n",
    "html = urlopen('https://en.wikipedia.org/wiki/Kevin_Bacon')\n",
    "bsObj = BeautifulSoup(html, 'html.parser')\n",
    "\n",
    "for link in bsObj.findAll('a'):\n",
    "    if 'href' in link.attrs:\n",
    "        print(link.attrs['href'])\n"
   ]
  },
  {
   "attachments": {},
   "cell_type": "markdown",
   "metadata": {},
   "source": [
    "Now we want only the links of articles if we examine them the article links do not have a semicolon and begin with /wiki/\n",
    "\n",
    "Now we can improve the code"
   ]
  },
  {
   "cell_type": "code",
   "execution_count": null,
   "metadata": {},
   "outputs": [],
   "source": [
    "#My code\n",
    "\n",
    "from urllib.request import urlopen\n",
    "from bs4 import BeautifulSoup\n",
    "import datetime \n",
    "import random\n",
    "\n",
    "def getLinks(articleUrl):   \n",
    "    html = urlopen('https://en.wikipedia.org'+articleUrl)\n",
    "    bsObj = BeautifulSoup(html, 'html.parser')\n",
    "\n",
    "    links = []\n",
    "\n",
    "    for link in bsObj.findAll('a'):\n",
    "        if 'href' in link.attrs:\n",
    "            links.append(link.attrs['href'])\n",
    "\n",
    "    articles = []\n",
    "\n",
    "    for li in links:\n",
    "        if li[0:6] == '/wiki/':\n",
    "            articles.append(li)\n",
    "    \n",
    "    print(articles)\n",
    "\n",
    "links = getLinks('/wiki/Kevin_Bacon')\n",
    "\n",
    "while len(links) > 0:\n",
    "    newArticle = links[random.randint(0, len(links)-1).attrs['href']]\n",
    "    print(newArticle)\n",
    "    links = getLinks(newArticle)\n",
    "    "
   ]
  },
  {
   "cell_type": "code",
   "execution_count": null,
   "metadata": {},
   "outputs": [],
   "source": [
    "from urllib.request import urlopen\n",
    "from bs4 import BeautifulSoup\n",
    "import re\n",
    "\n",
    "pages = set()\n",
    "\n",
    "def getLinks(pageU)"
   ]
  }
 ],
 "metadata": {
  "kernelspec": {
   "display_name": "Python 3",
   "language": "python",
   "name": "python3"
  },
  "language_info": {
   "codemirror_mode": {
    "name": "ipython",
    "version": 3
   },
   "file_extension": ".py",
   "mimetype": "text/x-python",
   "name": "python",
   "nbconvert_exporter": "python",
   "pygments_lexer": "ipython3",
   "version": "3.10.4 (main, Nov 29 2022, 20:00:25) [GCC 9.4.0]"
  },
  "orig_nbformat": 4,
  "vscode": {
   "interpreter": {
    "hash": "3ad933181bd8a04b432d3370b9dc3b0662ad032c4dfaa4e4f1596c548f763858"
   }
  }
 },
 "nbformat": 4,
 "nbformat_minor": 2
}
